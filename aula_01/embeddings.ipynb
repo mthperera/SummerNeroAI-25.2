{
 "cells": [
  {
   "cell_type": "markdown",
   "id": "c83e4ccd",
   "metadata": {},
   "source": [
    "## Importações:"
   ]
  },
  {
   "cell_type": "code",
   "execution_count": null,
   "id": "540d76b3",
   "metadata": {},
   "outputs": [
    {
     "data": {
      "text/plain": [
       "True"
      ]
     },
     "execution_count": 19,
     "metadata": {},
     "output_type": "execute_result"
    }
   ],
   "source": [
    "from dotenv import load_dotenv\n",
    "import numpy as np\n",
    "\n",
    "from langchain_community.document_loaders import PyPDFLoader\n",
    "from langchain_openai import OpenAIEmbeddings\n",
    "from langchain_text_splitters import RecursiveCharacterTextSplitter\n",
    "\n",
    "load_dotenv(override=True)"
   ]
  },
  {
   "cell_type": "code",
   "execution_count": null,
   "id": "0f37ef08",
   "metadata": {},
   "outputs": [],
   "source": [
    "loader_mat = PyPDFLoader(\"livros/livro_matematica.pdf\")\n",
    "loader_port = PyPDFLoader(\"livros/livro_portugues.pdf\")\n",
    "\n",
    "pages_mat = loader_mat.load()\n",
    "pages_port = loader_port.load()\n",
    "\n",
    "text_splitter = RecursiveCharacterTextSplitter(\n",
    "    chunk_size = 2000,\n",
    "    chunk_overlap = 200\n",
    ")\n",
    "\n",
    "chunks_mat = text_splitter.split_documents(pages_mat)\n",
    "chunks_port = text_splitter.split_documents(pages_port)"
   ]
  },
  {
   "cell_type": "markdown",
   "id": "fc1e60d2",
   "metadata": {},
   "source": [
    "## Realizando embeddings:"
   ]
  },
  {
   "cell_type": "code",
   "execution_count": 31,
   "id": "6f3ba799",
   "metadata": {},
   "outputs": [
    {
     "name": "stdout",
     "output_type": "stream",
     "text": [
      "[-0.00732073 -0.01506822  0.0373368  ... -0.0024635  -0.01081148\n",
      "  0.003778  ]\n",
      "271 373\n"
     ]
    }
   ],
   "source": [
    "embeddings = OpenAIEmbeddings(model=\"text-embedding-3-small\")\n",
    "\n",
    "embeddings_mat = np.array(embeddings.embed_documents([chunk.page_content for chunk in chunks_mat]))\n",
    "embeddings_port = np.array(embeddings.embed_documents([chunk.page_content for chunk in chunks_port]))\n",
    "\n",
    "print(embeddings_mat[0])\n",
    "print(len(embeddings_mat), len(embeddings_port))"
   ]
  },
  {
   "cell_type": "markdown",
   "id": "0f64c0f4",
   "metadata": {},
   "source": [
    "## Salvando variáveis:"
   ]
  },
  {
   "cell_type": "code",
   "execution_count": 32,
   "id": "a68c28e7",
   "metadata": {},
   "outputs": [],
   "source": [
    "import pickle\n",
    "\n",
    "with open('variaveis_embeddings/embeddings_mat.pkl', 'wb') as f:\n",
    "    pickle.dump(embeddings_mat, f)\n",
    "with open('variaveis_embeddings/embeddings_port.pkl', 'wb') as f:\n",
    "    pickle.dump(embeddings_port, f)\n",
    "with open('variaveis_embeddings/chunks_mat.pkl', 'wb') as f:\n",
    "    pickle.dump(chunks_mat, f)\n",
    "with open('variaveis_embeddings/chunks_port.pkl', 'wb') as f:\n",
    "    pickle.dump(chunks_port, f)"
   ]
  }
 ],
 "metadata": {
  "kernelspec": {
   "display_name": "env",
   "language": "python",
   "name": "python3"
  },
  "language_info": {
   "codemirror_mode": {
    "name": "ipython",
    "version": 3
   },
   "file_extension": ".py",
   "mimetype": "text/x-python",
   "name": "python",
   "nbconvert_exporter": "python",
   "pygments_lexer": "ipython3",
   "version": "3.12.10"
  }
 },
 "nbformat": 4,
 "nbformat_minor": 5
}
